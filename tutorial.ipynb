{
 "cells": [
  {
   "cell_type": "markdown",
   "metadata": {},
   "source": [
    "# Tutorial to get started\n",
    "---\n",
    "\n",
    "#### Getting Set up\n",
    "\n",
    "If you haven't already done so, please read the README. \n",
    "\n",
    "This notebook is meant to give you a brief overview in how to install LISE++ and walk you through how to use this package. Please go to the following link to install LISE++:\n",
    "\n",
    "* http://lise.nscl.msu.edu/download/\n",
    "\n",
    "Download the most recent .exe file that is there. Follow all instructions to set up LISE++. After completion, a LISE++ shortcut icon will appear on your desktop. From there, make sure to download the required repository via\n",
    "\n",
    "> git pull https://github.com/TwoAD7/nuclear_gamma_tracking.git\n",
    "\n",
    "#### Once that is completed, you are ready to move on to the following steps.\n",
    "---"
   ]
  },
  {
   "cell_type": "markdown",
   "metadata": {},
   "source": [
    "#### To view the contenets of the package\n",
    "\n",
    "Note for Dirk: I don't know why but in my .py files I need to have it as \n",
    "* from nuclear_gamma_tracker import automation_4_lise as a4l\n",
    "* from nuclear_gamma_tracker import start_calls as strt\n",
    "\n",
    "to be able to run it in jupyter (to produce this .ipynb file). However, having the import call as such does not allow me to run it on terminal on my machine as it says the module can not be found. When I run it from terminal, I have to have the import calls in the .py files as \n",
    "\n",
    "* import automation_4_lise as a4l\n",
    "* import start_calls as strt\n",
    "\n",
    "I am hoping you can provide some feedback on this discrepancy. "
   ]
  },
  {
   "cell_type": "code",
   "execution_count": 6,
   "metadata": {},
   "outputs": [
    {
     "name": "stdout",
     "output_type": "stream",
     "text": [
      "Your desktop path is C:\\Users\\Owner\\Desktop\n",
      "Summary.\n",
      "\n",
      "Primary file to be called on terminal; will begin the process of finding specific information\n",
      "for particular isotope. Run with the following command: \n",
      "python auto_4_lise.py\n",
      "\n",
      "\n"
     ]
    }
   ],
   "source": [
    "import nuclear_gamma_tracker.auto_4_lise as a4l\n",
    "print(a4l.__doc__)\n",
    "#help(a4l)"
   ]
  },
  {
   "cell_type": "code",
   "execution_count": 7,
   "metadata": {},
   "outputs": [
    {
     "name": "stdout",
     "output_type": "stream",
     "text": [
      "Summary.\n",
      "\n",
      "Written by: Roy Salinas\n",
      "\n",
      "Main module to control automation in LISE++ with NSCL configuration file.\n",
      "The implementation of the FRIB configuration file is yet to be developed.\n",
      "\n",
      "Purpose: To retrive particular parameters from LISE++ such as beam intensity,\n",
      "beam purity, wedge thickness, wedge angle, momentum acceptance, focal\n",
      "plane slit width, and Image 2 slit width.\n",
      "\n",
      "All beam data comes from NSCL website: https://nscl.msu.edu/users/beams.html\n",
      "\n",
      "Python version: 3.7.1\n",
      "Currently, this is has only been tested on a Windows OS.\n",
      "\n"
     ]
    }
   ],
   "source": [
    "import nuclear_gamma_tracker.automation_4_lise as auto4l\n",
    "print(auto4l.__doc__)\n",
    "#help(auto4l)"
   ]
  },
  {
   "cell_type": "code",
   "execution_count": 8,
   "metadata": {},
   "outputs": [
    {
     "name": "stdout",
     "output_type": "stream",
     "text": [
      "Summary.\n",
      "\n",
      "Start calls to start the program. Will prompt user to answer if LISE++ is running\n",
      "already with the GUI open.\n",
      "\n",
      "Help on module nuclear_gamma_tracker.start_calls in nuclear_gamma_tracker:\n",
      "\n",
      "NAME\n",
      "    nuclear_gamma_tracker.start_calls - Summary.\n",
      "\n",
      "DESCRIPTION\n",
      "    Start calls to start the program. Will prompt user to answer if LISE++ is running\n",
      "    already with the GUI open.\n",
      "\n",
      "FUNCTIONS\n",
      "    start()\n",
      "        Summary.\n",
      "        \n",
      "        Function to open LISE++ GUI from the icon logo that is on\n",
      "        your desktop (very specific at the moment).This function will prompt you \n",
      "        for input to pass to the LISE++ GUI.\n",
      "    \n",
      "    start2()\n",
      "        Summary.\n",
      "        \n",
      "        If LISE++ GUI is already open and visible on your screen, this\n",
      "        would be the start function that is to be used. This function will prompt you \n",
      "        for input to pass to the LISE++ GUI.\n",
      "\n",
      "FILE\n",
      "    c:\\users\\owner\\desktop\\folders\\cmse\\nuclear_gamma_tracking\\nuclear_gamma_tracker\\start_calls.py\n",
      "\n",
      "\n"
     ]
    }
   ],
   "source": [
    "import nuclear_gamma_tracker.start_calls as strt\n",
    "print(strt.__doc__)\n",
    "help(strt)"
   ]
  },
  {
   "cell_type": "markdown",
   "metadata": {},
   "source": [
    "---\n",
    "### To run the script\n",
    "\n",
    "You can either run the script on your local machine or run it in a conda environement. The pacakges that you will need are: \n",
    " - pyautogui \n",
    " - matplotlib \n",
    " - pyperclip\n",
    " - pandas\n",
    " - os \n",
    " - platform \n",
    " - time \n",
    " - numpy\n",
    " \n",
    "You can install these on your local machine (visit the README) or you can run this script in an anaconda environment. To achieve the latter, follow the next steps. \n",
    "\n",
    "#### Anaconda Environment run\n",
    "After installing LISE++, make sure to have the logo visible on your home screen as this will allow the script to open it without you having to do so. Next, please run the following command \n",
    " > conda env create --prefix ./envs --file environment.yml\n",
    " > conda activate ./envs\n",
    " \n",
    "This will create your environement - and activate it - with the required dependencies. Once that is completed, please make sure to have the LISE++ icon visible on your desktop. While in your environement (and the nuclear_gamma_tracker directory), run the following command on the terminal:\n",
    " > python auto_4_lise.py\n",
    " \n",
    "This will prompt you to enter various inputs to pass into the LISE++ Monte Carlo simulation with the NSCL configuration file for the Coupled Cycloton. "
   ]
  },
  {
   "cell_type": "markdown",
   "metadata": {},
   "source": [
    "<u>underscored text </u>"
   ]
  },
  {
   "cell_type": "code",
   "execution_count": null,
   "metadata": {},
   "outputs": [],
   "source": []
  }
 ],
 "metadata": {
  "kernelspec": {
   "display_name": "Python 3",
   "language": "python",
   "name": "python3"
  },
  "language_info": {
   "codemirror_mode": {
    "name": "ipython",
    "version": 3
   },
   "file_extension": ".py",
   "mimetype": "text/x-python",
   "name": "python",
   "nbconvert_exporter": "python",
   "pygments_lexer": "ipython3",
   "version": "3.7.1"
  }
 },
 "nbformat": 4,
 "nbformat_minor": 4
}
