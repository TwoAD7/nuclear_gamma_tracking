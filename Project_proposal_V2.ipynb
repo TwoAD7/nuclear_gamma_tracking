{
 "cells": [
  {
   "cell_type": "markdown",
   "metadata": {},
   "source": [
    "<h1><center>Exotic Nuclei Yield Calculations</center></h1>\n",
    "   <h4><center>By: Roy Salinas </center><h4>\n",
    "    <center> <img src=\"https://frib.msu.edu/_files/images/users_user-resources_frib-logo.jpg\" width=\\\"50\\\" height=\\\"50\\\" align=\\\"center\\\"/></center>"
   ]
  },
  {
   "cell_type": "markdown",
   "metadata": {},
   "source": [
    "#### Image from: https://frib.msu.edu/_files/images/users_user-resources_frib-logo.jpg"
   ]
  },
  {
   "cell_type": "markdown",
   "metadata": {},
   "source": [
    "# Overview\n",
    "\n",
    "The study of nuclear matter is vital in gaining a better understanding of our universe as it pushes the frontier of our knowledge. Many phenomena encountered in nuclear physics is paramount to other fields of research such as condense matter and atomic physics due to the implicit dependence on structure and unique many body systems. One can pursue this endeavor by looking at lifetime measurements of excited states of nucleons, protons/neutrons, as they decay to lower energy states, nuclear dynamics of nuclei in fixed target experiments, and/or contributions to spin of nuclei from the microcosm within the nucleon consisting of quarks and gluons. The completion of FRIB at Michigan State University (MSU) will not only enhance MSU's reputation for having the #1 nuclear physics graduate program in the world, but will also plunge the nuclear physics community into a new era of discovery as FRIB will provide a myriad of new isotopes to discover. As the FRIB Wikipedia states, \"FRIB will enable scientists to make discoveries about the properties of rare isotopes in order to better understand the physics of nuclei, nuclear astrophysics, fundamental interactions, and applications for society, including in medicine, homeland security and industry.\" With this new facility being built on campus, MSU will continue the drive of discovery for the sake of enlightnment and application. \n",
    "\n",
    "Completion of FRIB in 2022 (as was the goal before COVID-19) will require a tremendous amount of analysis and simulation to get optimal use of this facility, as it will provide enhanced yields and transmission of fragments collected in a spectrometer. The predicted values of transmission and yields for particular isotopes are perfromed with a program called \"LISE++\" that is shared among several facilities such as NSCL, GANIL, RIKEN, and GSI, the cyclotron institue at Texas A&M, and eventually FRIB. LISE++ comes with powerful Monte Carlo simulations for fragment transmissions, fission fragment kinematics, and ion optics and optimization that allows it to successfully predict values for transmission and yield based on detector configuration input. As powerful as LISE++ is, it becomes tedious if on is looking to explore various exotic nuclei at once as it requires a tremendous amount of interaction with the LISE++ GUI. In this particular project, I aim to reduce the amount of interaction with the GUI by automating part of the process required to retrieve yield and transmission values from LISE++. "
   ]
  },
  {
   "cell_type": "markdown",
   "metadata": {},
   "source": [
    "# Program Description\n",
    "\n",
    "This project will concern itself with automating interaction with the LISE++ GUI to produce yield and transmission calculations. The language this will be done in is python due to the several automation libraries that can be used in conjuction with each other to achieve this goal. Modules such as pyautogui, pyperclip, pandas, and numpy will be used in parallel to successfully ease the amount of interaction with the GUI, as human interaction can lead to mistakes. \n",
    "\n",
    "The main features of this piece of software will be:\n",
    " * Automate yield and transmission requests from LISE++ GUI\n",
    " * Reduce the amount of human interaction with LISE++ GUI\n",
    " * Produce plots based on:\n",
    "     * comparison between NSCL and FRIB\n",
    "     * comparison between different isotopes \n",
    "     * particular isotope with different configuations "
   ]
  },
  {
   "cell_type": "markdown",
   "metadata": {},
   "source": [
    "### **Goals**\n",
    "\n",
    "#### Long term\n",
    "* Gain a better understanding on the physics of nuclear structure and dynamics\n",
    "* Improve coding abilities\n",
    "* Gain a better understanding of particular isotope creation\n",
    "* Work on applying computational methods to the field of nuclear physics\n",
    "\n",
    "#### Short term\n",
    "* __Surive my first year as a graduate student__ \n",
    "* Pass this class\n",
    "* Get python code working\n",
    "\n",
    "### **Timeline**\n",
    "* 09/30/2020 - 10/03/2020: Install Geant4Lifetime software and understand in and outs\n",
    "* 10/05/2020 - 10/17/2020: Work on developing neural network and read on literature on physics aspect and machine learning aspect\n",
    "* 10/17/2020 - 10/31/2020: UPDATED PROJECT DUE TO TIME CONSTRAINTS\n",
    "* 11/01/2020 - 11/15/2020: Look over summer research to begin process of automation on LISE++ GUI\n",
    "* 11/15/2020 - 11/20/2020: Work on implementing all isotpes on nuclear chart \n",
    "* 12/20/2020 - 12/09/2020: Work on presentation and debugging final details"
   ]
  },
  {
   "cell_type": "markdown",
   "metadata": {},
   "source": [
    "# Anticipating challenges\n",
    "\n",
    "## <u>Physics Facet</u>\n",
    "* Need to read more literature about nuclear structure and dynamics\",\n",
    "* Nuclear shell model\n",
    "* Excitation of nucleons in nuclei\n",
    "* Particular detectors at NSCL/FRIB\n",
    "    \n",
    "## <u>Computational Facet</u>\n",
    "* Go over different modules in python\n",
    "* Making this accessible to unix and window machines \n",
    "    * Apple computers run on unix \n",
    "\n",
    "## <u>General Worries</u>\n",
    "* Other classes course load\n",
    "* TA'ing responsibility \n",
    "* Mental sanity \n",
    " If any challenges interfere with my ability to complete my project or progress, there will be some scaling down of the over arching goal of the project to have successful deliverable at the end this semester. This project may deviate from the python intended goal due to having equal amounts of experience with scki-kit learn and TMVA but not PyTorch, TensorFlow, etc. That may be the only deviation."
   ]
  }
 ],
 "metadata": {
  "kernelspec": {
   "display_name": "Python 3",
   "language": "python",
   "name": "python3"
  },
  "language_info": {
   "codemirror_mode": {
    "name": "ipython",
    "version": 3
   },
   "file_extension": ".py",
   "mimetype": "text/x-python",
   "name": "python",
   "nbconvert_exporter": "python",
   "pygments_lexer": "ipython3",
   "version": "3.7.1"
  }
 },
 "nbformat": 4,
 "nbformat_minor": 4
}
