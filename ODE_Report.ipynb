{
 "cells": [
  {
   "cell_type": "markdown",
   "metadata": {},
   "source": [
    "In order to successfully complete this assignment you need to commit a report in markdown or ipynb format to your ```Reports``` directory in your project git repository on or before **11:59pm on Friday November 27**."
   ]
  },
  {
   "cell_type": "markdown",
   "metadata": {},
   "source": [
    "# <center>Using Ordinary Differential Equations (ODEs) in Nucear Physics</center>\n",
    "\n",
    "<center>by Roy Salinas</center>"
   ]
  },
  {
   "cell_type": "markdown",
   "metadata": {},
   "source": [
    "One can sit and ponder the complexities of life, glean that there is a tremendous amount of information out in the universe that one will never truly be able to grasp. Whether a species before us has achieved this, or a species long after us accomplishes this feat, the human race is chipping away at the unsurmountable task of knowing. Fortunately, on such honorable endeavor, mankind has developed several tools to drive discovery and among the plethora of tools, differential equations (DE) were given birth. The essentialness of DEs is unbelieavable, from modeling simple systems as a predator-prey model, to using DEs to model multi-dimensional problems (that give rise to partial DEs), and even using DEs to model things such as dissipative/frictional forces (can be seen in Legendre's equations) that can be used to find constraint forces (given the appropriate holonomic constraints) that are used to model particular robotics. The reader may now (hopefully) be intrigued as to how this pertains to physics, particularly nuclear physics, and how one can use DEs to solve in nuclear physics. Classical mechanics (classical physics) has been known to man for several centuries but it isn't until this recent century (1900's) that quantum mechancis was postulated and proven to be our most effective theory in describing the microscopic world.\n",
    "\n",
    "To describe an essential bridge between DEs and the quantum formulation, one can begin by looking at the Hamiltonian interpretation of the time evolution of a system, utilize Poisson brackets and then, as Paul Dirac came to find, multiply the Poisson bracket by $\\frac{1}{i\\hbar}$, one arrives at the quantum mechanical formulation of Hamilton's equations for time evolution. However, one of the most celebrated equations in physics is the Shr$\\ddot{\\text{o}}$dinger equation (SE) in the position basis is given below. \n",
    "\n",
    "\\begin{align}\n",
    "&\\hat{H}\\Psi(\\vec{r},t) =i\\hbar \\frac{\\partial}{\\partial t}\\Psi{\\vec{r},t} \\\\ \n",
    "&\\left(-\\frac{\\hbar^{2}}{2m}\\vec\\nabla^2 + V(r)\\right)\\Psi(\\vec{r},t) = i\\hbar \\frac{\\partial}{\\partial t}\\Psi(\\vec{r},t)\n",
    "\\end{align}\n",
    "\n",
    "where the above is the time-dependent SE. If one has stationary states, one can use separation of variables and arrive at the time-independent SE by solving the time-dependent DE and being left with the second order linear DE in the position basis.\n",
    "\\begin{align}\n",
    "&\\left(-\\frac{\\hbar^{2}}{2m}\\vec\\nabla^2 + V(r)\\right)\\Psi(\\vec{r}) = E\\Psi(\\vec{r})\n",
    "\\end{align}\n",
    "\n",
    "This equation is the detrimental to describing quantum mechanical systems, and such systems can even be expanded realtivist with appropriate Lorentz boosts and formulation. Using DEs is essential in physics, as it allows scientists to model complex systems such as a nucleus and how all of the nucleons (protons and neutrons) interact with the strong force (the force responsible for holding the nucleus together. DEs are amazing and are remarkable in their vast ability of applicability to not just nuclear physics, but circuits, civil engineering (flux of cars in roads), and biology (respiratory systems). "
   ]
  }
 ],
 "metadata": {
  "anaconda-cloud": {},
  "kernelspec": {
   "display_name": "Python 3",
   "language": "python",
   "name": "python3"
  },
  "language_info": {
   "codemirror_mode": {
    "name": "ipython",
    "version": 3
   },
   "file_extension": ".py",
   "mimetype": "text/x-python",
   "name": "python",
   "nbconvert_exporter": "python",
   "pygments_lexer": "ipython3",
   "version": "3.7.1"
  }
 },
 "nbformat": 4,
 "nbformat_minor": 4
}
