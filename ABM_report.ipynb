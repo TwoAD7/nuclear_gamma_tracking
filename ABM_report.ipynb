{
 "cells": [
  {
   "cell_type": "markdown",
   "metadata": {},
   "source": [
    "In order to successfully complete this assignment you need to commit a report in markdown or ipynb format to your ```Reports``` directory in your project git repository on or before **11:59pm on Friday October 30**."
   ]
  },
  {
   "cell_type": "markdown",
   "metadata": {},
   "source": [
    "# <center>Using Agent Based Models in Nuclear Physics</center>\n",
    "\n",
    "<center>by Roy Salinas</center>"
   ]
  },
  {
   "cell_type": "markdown",
   "metadata": {},
   "source": [
    "Physics in general is built upon a myriad of ansätze that lead to theories and experimental breakthrough. Of course, an ansätze can only go so far before higher order terms in such an approach begin to really matter. Within the field of nuclear physics, theories have been built around the analogue of classical physics due to the nature of human intuition beaming brightly and bringing success in many areas of science. Agent based modeling deals with how autonomous agents interact with one another allowing n individual to glean a better understanding of the behavior of such agents amongst themselves. This to me appears to deal with group theory, or something along the lines of group theory as the autonomous agents can be considered to be microstates of a certain interaction between two systems. Interactions such as Coulomb interactions, strong interactions, weak interaction, or any interaction that could affect the system to place it into another state (one could also think about angular momentum coupling between the intrinsic spin orbit and orbital angular momentum for particles with spin interacting with some electromagnetic field ). \n",
    "\n"
   ]
  },
  {
   "cell_type": "markdown",
   "metadata": {},
   "source": [
    "<center><img src=\"https://live.staticflickr.com/65535/50578574541_071b3a56dd_z.jpg\" width=30% alt=\"Sphinx logo\"></center>\n",
    "source: https://live.staticflickr.com/65535/50578574541_071b3a56dd_z.jpg"
   ]
  },
  {
   "cell_type": "markdown",
   "metadata": {},
   "source": [
    "Harping on the thought of group theory, there are several problems in nuclear physics that could utilize agent-based modeling (with some modifications to the model itself to better handle the physics at play). For example, in studying nuclear reactions and scattering, it would be very difficult to try and attempt to describe an individual incoming beam, a computational heavy endeavor without a doubt. To address this issue, one can talk about a distribution (our agent) and then described how this agent interacts with certain target materials, magnets, and/or other nuclei.  It is also very interesting to study reactions and nuclear structure, something that utilizes group theory to better understand the symmetries of the nucleus (and nucleons). As I am no expert in my field yet, and have taken but a few steps into the field of nuclear physics, I am limited in my response but I would imagine the possibility of being able to model particular nuclear states as “agents” with some particular interaction among themselves. "
   ]
  },
  {
   "cell_type": "markdown",
   "metadata": {},
   "source": [
    "---\n",
    "# References\n",
    "\n",
    "* https://oaktrust.library.tamu.edu/handle/1969.1/153906\n",
    "* https://arxiv.org/pdf/nucl-th/0112006.pdf\n"
   ]
  }
 ],
 "metadata": {
  "anaconda-cloud": {},
  "kernelspec": {
   "display_name": "Python 3",
   "language": "python",
   "name": "python3"
  },
  "language_info": {
   "codemirror_mode": {
    "name": "ipython",
    "version": 3
   },
   "file_extension": ".py",
   "mimetype": "text/x-python",
   "name": "python",
   "nbconvert_exporter": "python",
   "pygments_lexer": "ipython3",
   "version": "3.7.1"
  }
 },
 "nbformat": 4,
 "nbformat_minor": 4
}
