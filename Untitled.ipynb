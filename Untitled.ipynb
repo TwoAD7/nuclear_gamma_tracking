{
 "cells": [
  {
   "cell_type": "code",
   "execution_count": 18,
   "metadata": {},
   "outputs": [],
   "source": [
    "from nuclear_gamma_tracker import automation4LISE as a4l "
   ]
  },
  {
   "cell_type": "code",
   "execution_count": 19,
   "metadata": {},
   "outputs": [],
   "source": [
    "#help(a4l)"
   ]
  },
  {
   "cell_type": "code",
   "execution_count": 20,
   "metadata": {},
   "outputs": [
    {
     "name": "stdout",
     "output_type": "stream",
     "text": [
      "Help on function set_projectile in module nuclear_gamma_tracker.automation4LISE:\n",
      "\n",
      "set_projectile(projectile_name, energy, intensity, A)\n",
      "    Summary\n",
      "    \n",
      "    Set the incoming projectile in LISE++ based on the projectiles name, energy, intensity, and atomic number (mass) A.\n",
      "    Passed in to the arguments in the following order: projectile_name, energy, intensity, A.\n",
      "    \n",
      "    Current list of isotopes that can be used for target can be found at:\n",
      "    https://nscl.msu.edu/users/beams.html\n",
      "\n"
     ]
    }
   ],
   "source": [
    "help(a4l.set_projectile)"
   ]
  },
  {
   "cell_type": "code",
   "execution_count": 21,
   "metadata": {},
   "outputs": [
    {
     "name": "stdout",
     "output_type": "stream",
     "text": [
      "Summary\n",
      "\n",
      "\tSet the incoming projectile in LISE++ based on the projectiles name, energy, intensity, and atomic number (mass) A.\n",
      "\tPassed in to the arguments in the following order: projectile_name, energy, intensity, A.\n",
      "\n",
      "\tCurrent list of isotopes that can be used for target can be found at:\n",
      "\thttps://nscl.msu.edu/users/beams.html\n",
      "\n",
      "\n",
      "\t\n"
     ]
    }
   ],
   "source": [
    "print(a4l.set_projectile.__doc__)"
   ]
  },
  {
   "cell_type": "code",
   "execution_count": 22,
   "metadata": {},
   "outputs": [
    {
     "ename": "AttributeError",
     "evalue": "module 'nuclear_gamma_tracker.automation4LISE' has no attribute 'notes'",
     "output_type": "error",
     "traceback": [
      "\u001b[1;31m---------------------------------------------------------------------------\u001b[0m",
      "\u001b[1;31mAttributeError\u001b[0m                            Traceback (most recent call last)",
      "\u001b[1;32m<ipython-input-22-e142e812a87d>\u001b[0m in \u001b[0;36m<module>\u001b[1;34m\u001b[0m\n\u001b[1;32m----> 1\u001b[1;33m \u001b[0mprint\u001b[0m\u001b[1;33m(\u001b[0m\u001b[0ma4l\u001b[0m\u001b[1;33m.\u001b[0m\u001b[0mnotes\u001b[0m\u001b[1;33m.\u001b[0m\u001b[0m__doc__\u001b[0m\u001b[1;33m)\u001b[0m\u001b[1;33m\u001b[0m\u001b[1;33m\u001b[0m\u001b[0m\n\u001b[0m",
      "\u001b[1;31mAttributeError\u001b[0m: module 'nuclear_gamma_tracker.automation4LISE' has no attribute 'notes'"
     ]
    }
   ],
   "source": [
    "print(a4l.notes.__doc__)"
   ]
  },
  {
   "cell_type": "code",
   "execution_count": null,
   "metadata": {},
   "outputs": [],
   "source": []
  }
 ],
 "metadata": {
  "kernelspec": {
   "display_name": "Python 3",
   "language": "python",
   "name": "python3"
  },
  "language_info": {
   "codemirror_mode": {
    "name": "ipython",
    "version": 3
   },
   "file_extension": ".py",
   "mimetype": "text/x-python",
   "name": "python",
   "nbconvert_exporter": "python",
   "pygments_lexer": "ipython3",
   "version": "3.7.1"
  }
 },
 "nbformat": 4,
 "nbformat_minor": 4
}
