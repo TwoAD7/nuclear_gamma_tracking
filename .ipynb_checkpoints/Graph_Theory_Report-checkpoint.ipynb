{
 "cells": [
  {
   "cell_type": "markdown",
   "metadata": {},
   "source": [
    "# <center>Using Graph Theory in Nuclear Physics </center>\n",
    "\n",
    "<center>by Roy Salinas </center>"
   ]
  },
  {
   "cell_type": "markdown",
   "metadata": {},
   "source": [
    "The field of physics is multi-faceted and requires incessant cooperation across different fields in STEM to make progress in understanding our universe. While the field physics is vast and one individual will never be able to fully attain complete enlightenment, there are communities of people that look at particular sub-fields; nuclear physics being the sub-field I intend to be part of. Of course, nuclear physics in itself consists of concepts such as quantum mechanics (QM), electricity and magnetism (EM), dynamics, computational modeling, etc. that make it an effective application of these concepts to study the microscopic world. \n",
    "\n",
    "An application of Graph theory in nuclear physics can be seen in diagrams such as “Feynman Diagrams” in which they illustrate dynamic system evolution through a visual consisting of directional edges and vertices. \n"
   ]
  },
  {
   "cell_type": "markdown",
   "metadata": {},
   "source": [
    "$$ \\Large{\\bf{\\beta^{-}}} \\text{decay Feynman Diagram}  $$ \n",
    "\n",
    "<center>\n",
    " <img src = \"https://upload.wikimedia.org/wikipedia/commons/thumb/8/89/Beta_Negative_Decay.svg/1024px-Beta_Negative_Decay.svg.png\"\n",
    "      alt = \"Learn HTML5\" height = \"500\" width = \"500\" />\n",
    "<\\center>\n",
    "    \n",
    "source: https://upload.wikimedia.org/wikipedia/commons/thumb/8/89/Beta_Negative_Decay.svg/1024px-Beta_Negative_Decay.svg.png"
   ]
  },
  {
   "cell_type": "markdown",
   "metadata": {},
   "source": [
    "In the picture above, we have time on our y axis and our “coordinate space” on our x axis. While this diagram may not look exactly like graphs we are accustomed to, it contains all of the requirements to make it a graph: vertices and edges. Each vertex represents a point in space and time (not to be confused with space-time, an entirely different thing!) where an interaction occurred, and the particle underwent some interaction. The discrepancy now lies in our edges as they can be represented with “squiggly” lines and straight lines. Each different type of line represents different kinds of particles, and depending on the kind of particle, there may be another decay that may occur increasing the numer of vertices and edges. Below is another use of graph theory to visualize the relationships between particles known as mesons (particles consisting of a quark and an anti-quark) in terms of something known as “Strangeness” and “Isospin”. "
   ]
  },
  {
   "cell_type": "markdown",
   "metadata": {},
   "source": [
    "$$ \\Large{\\text{Meson nonet diagram}}  $$ \n",
    "\n",
    "<center>\n",
    " <img src = \"https://upload.wikimedia.org/wikipedia/commons/thumb/c/c0/Meson_nonet_-_spin_0.svg/1920px-Meson_nonet_-_spin_0.svg.png\"\n",
    "      alt = \"Learn HTML5\" height = \"500\" width = \"500\" />\n",
    "<\\center>\n",
    "\n",
    "source: https://upload.wikimedia.org/wikipedia/commons/thumb/c/c0/Meson_nonet_-_spin_0.svg/1920px-Meson_nonet_-_spin_0.svg.png"
   ]
  },
  {
   "cell_type": "markdown",
   "metadata": {},
   "source": [
    "In the image above, we have \"Strangeness\" (an abstract way of classifying certain particles) on our y-axis and the third component of isospin $I_{3}$(for up and down quarks, $I_{3} = \\pm \\frac{1}{2}$ repectively, and $I_{3} = 0$ for all other quarks) on the x-axis. While I won’t go too much into the physical meaning of this graph, I would like to talk about the use of graph theory to demonstrate relationships between certain intrinsic quantum mechanical properties and the particles that arise from this. Do keep in mind, when I say “certain intrinsic quantum mechanical properties and the particles that arise from this” I am not saying that these particles – which are in nature with or without our explanations – only exist because they obey these relationships, rather, I am saying that the quantum mechanical properties are observations of the intrinsic nature of these particles that are modeled by the theory of quantum mechanics. Each vertex here represents a different meson and the edges aren’t directional; one can go either way. Thus, this can be viewed as another application of graph theory in nuclear physics to visualize relationships between properties that categorize certain particles. \n",
    "\n",
    "Of course, there are limits to the application of graph theory as some systems and relationships are too complicated to be visualized; this isn’t unique to physics but all fields. These are just two ways graph theory is utilized in nuclear physics to illustrate dynamical properties of systems and intrinsic properties between matter. "
   ]
  },
  {
   "cell_type": "markdown",
   "metadata": {},
   "source": [
    "---\n",
    "# References\n",
    "\n",
    "* https://www.quantumdiaries.org/2010/02/14/lets-draw-feynman-diagams/\n",
    "* https://arxiv.org/vc/arxiv/papers/1302/1302.4378v1.pdf\n"
   ]
  }
 ],
 "metadata": {
  "anaconda-cloud": {},
  "kernelspec": {
   "display_name": "Python 3",
   "language": "python",
   "name": "python3"
  },
  "language_info": {
   "codemirror_mode": {
    "name": "ipython",
    "version": 3
   },
   "file_extension": ".py",
   "mimetype": "text/x-python",
   "name": "python",
   "nbconvert_exporter": "python",
   "pygments_lexer": "ipython3",
   "version": "3.7.1"
  }
 },
 "nbformat": 4,
 "nbformat_minor": 4
}
