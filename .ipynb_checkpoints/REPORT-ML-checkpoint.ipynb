{
 "cells": [
  {
   "cell_type": "markdown",
   "metadata": {},
   "source": []
  },
  {
   "cell_type": "markdown",
   "metadata": {},
   "source": [
    "# <center>Using Machine Learning (ML) in Nuclear Physics</center>\n",
    "\n",
    "<center>by Roy Salinas</center>"
   ]
  },
  {
   "cell_type": "markdown",
   "metadata": {},
   "source": [
    "From the stone age to the modern age, tools (and methods) have served to improve the ability to perform a particular ask whilst also improving upon the tool; an accord between the task and the tool that spans generations. Machine learning (ML) is no different, honoring this accord with the task at hand but having been developed (relatively speaking) recently. Applications of ML to nuclear physics are extensive, and quite frankly, very exciting (at least to me they are) due to their ability to solve problems much faster than traditional approaches. However, that is not the case with all problems as some problems are much more convoluted and the computing power would be exorbitant; taxing both the individual and the computer. In cases as such, the \"physics\" approach - which includes using models for phenomena with some kind of approximation - would work significantly better. An example of ML being used in some research I have done can be seen below."
   ]
  },
  {
   "cell_type": "markdown",
   "metadata": {},
   "source": [
    "<center>\n",
    " <img src = \"//live.staticflickr.com/65535/50602580553_18be2b761c_h.jpg\"\n",
    "      alt = \"caption\" height = \"800\" width = \"800\" />\n",
    "<\\center>\n",
    "    <center> Ratio plots between regression results for different Multi-Layer Perceptron (MLP) methods with different parameter values <\\center>"
   ]
  },
  {
   "cell_type": "markdown",
   "metadata": {},
   "source": [
    "<center>\n",
    " <img src = \"//live.staticflickr.com/65535/50602629768_021644e07d_z.jpg\" alt = \"Learn HTML5\" height = \"500\" width = \"500\" /><img src = \"//live.staticflickr.com/65535/50602595453_f836d240d3_z.jpg\" alt = \"Learn HTML5\" height = \"500\" width = \"500\" />\n",
    "<\\center>\n",
    "        <center> Regression plots for two different MLP models compared wtih Monte Carlo simulation data<\\center>"
   ]
  },
  {
   "cell_type": "markdown",
   "metadata": {},
   "source": [
    "<center>\n",
    " <img src = \"//live.staticflickr.com/65535/50603366846_274d14dfbc_k.jpg\" alt = \"Learn HTML5\" height = \"500\" width = \"500\" /><img src = \"//live.staticflickr.com/65535/50603489207_27cc4afaae_b.jpg\" alt = \"Learn HTML5\" height = \"500\" width = \"500\" />\n",
    "<\\center>\n",
    "    <center> Deviation plots for MLP1 and MLP_5 <\\center>"
   ]
  },
  {
   "cell_type": "markdown",
   "metadata": {},
   "source": [
    "To briefly discuss the use of ML in my prior research, this analysis (a currently pending analysis) utilized the MLP method (in c++) in looking at creating a 1D regression model of jet (a \"spray\" of baryons or mesons) transverse momentum $p_{T}$ with the intent of being applied to actual data taken in 2015 by the STAR experiment at Brookhaven National Lab. The target variable being Monte Carlo (MC) generated data and the input variables being pseudorapidity $\\eta$ (the angle from the beam line) and detector jet $p_{T}$. It is clear that different versions of the MLP method worked better than others, as it can be seen above in contrasting the MLP_5 and MLP_1 deviation plots, and that MLP (a sub-class of ML) can either improve or worsen your analysis. Thus, while ML is a powerful tool, it must be tailored to the specific problem at hand for there is no \"general\" model that can work on all physics problems (much less any kind of problem). In this scenario, ML was utilized in an attempt to create a regression model for jet $p_{T}$, which would eventually lead to developing a model for 2D (jet $p_{T}$ and momentum transverse to the jet axis $j_{T}$), and then a 3D regression model ($p_{T}$, $j_{T}$, and fraction of momentum carried by the hadron to the jet $Z$)."
   ]
  },
  {
   "cell_type": "markdown",
   "metadata": {},
   "source": [
    "Besides regression, ML also very userful in classification; a tool that is essential when studying new exotic nuclei at FRIB (whenn operations begin). Of course, that is a very general stament, as it blankets an expanse of reserach and topics in which I am no expert in. However, before the inevitable realization that there are such things as time constraints as a graduate student, I was pursuing (and will still pursue at some points) the use of ML to classify gamma rays in pair production in studying the structure of different isotopes. "
   ]
  },
  {
   "cell_type": "markdown",
   "metadata": {},
   "source": [
    "---\n",
    "# References\n",
    "\n",
    "* $\\href{https://facaf84d-a-46f4763e-s-sites.googlegroups.com/a/lbl.gov/greta/workshops/gamma-ray-tracking-array-school/schedule/2018GRT-FutureTracking.pdf?attachauth=ANoY7crGPNF7YUDl5DB9o0fPFJ5-BK-NhTXiZgerYaf5IpkjTX5kBDnNsbE9MN6nyQqgS9vyCpQvuE-g395oiOcRK40KAPMscQ4a-cxFmJ6dFowAbBSjN9iQdw1RQ92rk0nBNcHVRIoGxUmk5kPVAQ2VYZrwJAzucG-m05NkVm4b2X9xjYeYn6srbyEDee7gtPomqe-jTa4w0DfwG8gTmmAyl1U6vOQC3HCuvEeLnm78-B2qY_gZ-bm02u_YK8Hfoft98Tf22IsYoqqKMx9_SUwZiqfSXRpMQ8hCNWHF8iN7vfG_XNIHRI0%3D&attredirects=0}{Presentation \\hspace{1mm}on\\hspace{1mm} nuclear \\hspace{1mm} gamma \\hspace{1mm}tracking}$\n",
    "\n",
    "* $\\href{https://facaf84d-a-46f4763e-s-sites.googlegroups.com/a/lbl.gov/greta/workshops/gamma-ray-tracking-array-school/schedule/ApplicationsOfGammaRayTracking.pdf?attachauth=ANoY7cotrPnPntARrzX_wdjM3_sAHuJ6nfoOD2awWRoSiY7zecq0S2nKuhkKH7Zda4dQcz1d-H_qws4BeRPtsGEg5cwo83A5P4UpV3H-0SVfLQTJvlX9uIOhm50DCSUaVJ-mlwMIOJiPbyag1VtgD8ixXr7EswWorfKJIenWATx-V0s7OIwcBx63K612mBWs6_k55KQjUun7ulqiQE8T2IBgODvfNPmZAElm3Egkkon1a_MpjjRGpnJ5-6-WvG0ZGFHcYxdnvIrBpc_1JbXK6VU-PbxgV4sL6HdWj1e_X7ls3GmA4rP4mio%3D&attredirects=0}{Applications} $\n"
   ]
  },
  {
   "cell_type": "code",
   "execution_count": null,
   "metadata": {},
   "outputs": [],
   "source": []
  }
 ],
 "metadata": {
  "anaconda-cloud": {},
  "kernelspec": {
   "display_name": "Python 3",
   "language": "python",
   "name": "python3"
  },
  "language_info": {
   "codemirror_mode": {
    "name": "ipython",
    "version": 3
   },
   "file_extension": ".py",
   "mimetype": "text/x-python",
   "name": "python",
   "nbconvert_exporter": "python",
   "pygments_lexer": "ipython3",
   "version": "3.7.1"
  }
 },
 "nbformat": 4,
 "nbformat_minor": 4
}
