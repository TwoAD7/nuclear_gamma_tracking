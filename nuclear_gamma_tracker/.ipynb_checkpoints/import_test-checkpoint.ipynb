{
 "cells": [
  {
   "cell_type": "markdown",
   "metadata": {},
   "source": [
    "## Short tutorial to get started\n",
    "\n",
    "This notebook is meant to give you a brief overview in how to install LISE++ and walk you through how to use this package. Please go to the following link to install LISE++:\n",
    "\n",
    "* http://lise.nscl.msu.edu/download/\n",
    "\n",
    "Download the most recent .exe file that is there. Follow all instructions to set up LISE++. After completion, a LISE++ shortcut icon will appear on your desktop. "
   ]
  },
  {
   "cell_type": "markdown",
   "metadata": {},
   "source": [
    "#### To view the contenets of the package"
   ]
  },
  {
   "cell_type": "code",
   "execution_count": 5,
   "metadata": {},
   "outputs": [
    {
     "name": "stdout",
     "output_type": "stream",
     "text": [
      "Summary.\n",
      "\n",
      "Primary file to be called on terminal; will begin the process of finding specific information\n",
      "for particular isotope. Run with the following command: \n",
      "python auto_4_lise.py\n",
      "\n",
      "\n"
     ]
    }
   ],
   "source": [
    "import nuclear_gamma_tracker.auto_4_lise as a4l\n",
    "print(a4l.__doc__)\n",
    "#help(a4l)"
   ]
  },
  {
   "cell_type": "code",
   "execution_count": 6,
   "metadata": {},
   "outputs": [
    {
     "name": "stdout",
     "output_type": "stream",
     "text": [
      "Summary.\n",
      "\n",
      "Written by: Roy Salinas\n",
      "\n",
      "Main module to control automation in LISE++ with NSCL configuration file.\n",
      "The implementation of the FRIB configuration file is yet to be developed.\n",
      "\n",
      "Purpose: To retrive particular parameters from LISE++ such as beam intensity,\n",
      "beam purity, wedge thickness, wedge angle, momentum acceptance, focal\n",
      "plane slit width, and Image 2 slit width.\n",
      "\n",
      "All beam data comes from NSCL website: https://nscl.msu.edu/users/beams.html\n",
      "\n",
      "Python version: 3.7.1\n",
      "Currently, this is has only been tested on a Windows OS.\n",
      "\n"
     ]
    }
   ],
   "source": [
    "import nuclear_gamma_tracker.automation_4_lise as auto4l\n",
    "print(auto4l.__doc__)\n",
    "#help(auto4l)"
   ]
  },
  {
   "cell_type": "code",
   "execution_count": 7,
   "metadata": {},
   "outputs": [
    {
     "name": "stdout",
     "output_type": "stream",
     "text": [
      "Summary.\n",
      "\n",
      "Start calls to start the program. Will prompt user to answer if LISE++ is running\n",
      "already with the GUI open. If not, answer \"no\" and it will locate the image\n",
      "on your desktop and open it.\n",
      "\n"
     ]
    }
   ],
   "source": [
    "import nuclear_gamma_tracker.start_calls as strt\n",
    "print(strt.__doc__)\n",
    "#help(strt)"
   ]
  }
 ],
 "metadata": {
  "kernelspec": {
   "display_name": "Python 3",
   "language": "python",
   "name": "python3"
  },
  "language_info": {
   "codemirror_mode": {
    "name": "ipython",
    "version": 3
   },
   "file_extension": ".py",
   "mimetype": "text/x-python",
   "name": "python",
   "nbconvert_exporter": "python",
   "pygments_lexer": "ipython3",
   "version": "3.7.1"
  }
 },
 "nbformat": 4,
 "nbformat_minor": 4
}
